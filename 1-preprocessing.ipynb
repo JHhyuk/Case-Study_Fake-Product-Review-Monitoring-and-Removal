{
 "cells": [
  {
   "cell_type": "code",
   "execution_count": 1,
   "metadata": {
    "_cell_guid": "d8088bc0-a917-4b28-963b-051ed6cc5c91",
    "_uuid": "309e5351-23ba-43b9-95b8-702eff2d29c0"
   },
   "outputs": [],
   "source": [
    "import numpy as np\n",
    "import pandas as pd\n",
    "import spacy\n",
    "import string\n",
    "from spacy import displacy\n",
    "from spacy.lang.en.stop_words import STOP_WORDS\n",
    "import os\n",
    "import re\n",
    "from sklearn.metrics import accuracy_score\n",
    "# /kaggle/input/amazon_reviews.txt"
   ]
  },
  {
   "cell_type": "code",
   "execution_count": 2,
   "metadata": {},
   "outputs": [
    {
     "name": "stdout",
     "output_type": "stream",
     "text": [
      "(21000, 8)\n",
      "__label2__    10500\n",
      "__label1__    10500\n",
      "Name: LABEL, dtype: int64\n"
     ]
    },
    {
     "data": {
      "text/html": [
       "<div>\n",
       "<style scoped>\n",
       "    .dataframe tbody tr th:only-of-type {\n",
       "        vertical-align: middle;\n",
       "    }\n",
       "\n",
       "    .dataframe tbody tr th {\n",
       "        vertical-align: top;\n",
       "    }\n",
       "\n",
       "    .dataframe thead th {\n",
       "        text-align: right;\n",
       "    }\n",
       "</style>\n",
       "<table border=\"1\" class=\"dataframe\">\n",
       "  <thead>\n",
       "    <tr style=\"text-align: right;\">\n",
       "      <th></th>\n",
       "      <th>LABEL</th>\n",
       "      <th>RATING</th>\n",
       "      <th>VERIFIED_PURCHASE</th>\n",
       "      <th>PRODUCT_CATEGORY</th>\n",
       "      <th>PRODUCT_ID</th>\n",
       "      <th>PRODUCT_TITLE</th>\n",
       "      <th>REVIEW_TITLE</th>\n",
       "      <th>REVIEW_TEXT</th>\n",
       "    </tr>\n",
       "    <tr>\n",
       "      <th>DOC_ID</th>\n",
       "      <th></th>\n",
       "      <th></th>\n",
       "      <th></th>\n",
       "      <th></th>\n",
       "      <th></th>\n",
       "      <th></th>\n",
       "      <th></th>\n",
       "      <th></th>\n",
       "    </tr>\n",
       "  </thead>\n",
       "  <tbody>\n",
       "    <tr>\n",
       "      <th>1</th>\n",
       "      <td>__label1__</td>\n",
       "      <td>4</td>\n",
       "      <td>N</td>\n",
       "      <td>PC</td>\n",
       "      <td>B00008NG7N</td>\n",
       "      <td>Targus PAUK10U Ultra Mini USB Keypad, Black</td>\n",
       "      <td>useful</td>\n",
       "      <td>When least you think so, this product will sav...</td>\n",
       "    </tr>\n",
       "    <tr>\n",
       "      <th>2</th>\n",
       "      <td>__label1__</td>\n",
       "      <td>4</td>\n",
       "      <td>Y</td>\n",
       "      <td>Wireless</td>\n",
       "      <td>B00LH0Y3NM</td>\n",
       "      <td>Note 3 Battery : Stalion Strength Replacement ...</td>\n",
       "      <td>New era for batteries</td>\n",
       "      <td>Lithium batteries are something new introduced...</td>\n",
       "    </tr>\n",
       "    <tr>\n",
       "      <th>3</th>\n",
       "      <td>__label1__</td>\n",
       "      <td>3</td>\n",
       "      <td>N</td>\n",
       "      <td>Baby</td>\n",
       "      <td>B000I5UZ1Q</td>\n",
       "      <td>Fisher-Price Papasan Cradle Swing, Starlight</td>\n",
       "      <td>doesn't swing very well.</td>\n",
       "      <td>I purchased this swing for my baby. She is 6 m...</td>\n",
       "    </tr>\n",
       "    <tr>\n",
       "      <th>4</th>\n",
       "      <td>__label1__</td>\n",
       "      <td>4</td>\n",
       "      <td>N</td>\n",
       "      <td>Office Products</td>\n",
       "      <td>B003822IRA</td>\n",
       "      <td>Casio MS-80B Standard Function Desktop Calculator</td>\n",
       "      <td>Great computing!</td>\n",
       "      <td>I was looking for an inexpensive desk calcolat...</td>\n",
       "    </tr>\n",
       "    <tr>\n",
       "      <th>5</th>\n",
       "      <td>__label1__</td>\n",
       "      <td>4</td>\n",
       "      <td>N</td>\n",
       "      <td>Beauty</td>\n",
       "      <td>B00PWSAXAM</td>\n",
       "      <td>Shine Whitening - Zero Peroxide Teeth Whitenin...</td>\n",
       "      <td>Only use twice a week</td>\n",
       "      <td>I only use it twice a week and the results are...</td>\n",
       "    </tr>\n",
       "  </tbody>\n",
       "</table>\n",
       "</div>"
      ],
      "text/plain": [
       "             LABEL  RATING VERIFIED_PURCHASE PRODUCT_CATEGORY  PRODUCT_ID  \\\n",
       "DOC_ID                                                                      \n",
       "1       __label1__       4                 N               PC  B00008NG7N   \n",
       "2       __label1__       4                 Y         Wireless  B00LH0Y3NM   \n",
       "3       __label1__       3                 N             Baby  B000I5UZ1Q   \n",
       "4       __label1__       4                 N  Office Products  B003822IRA   \n",
       "5       __label1__       4                 N           Beauty  B00PWSAXAM   \n",
       "\n",
       "                                            PRODUCT_TITLE  \\\n",
       "DOC_ID                                                      \n",
       "1             Targus PAUK10U Ultra Mini USB Keypad, Black   \n",
       "2       Note 3 Battery : Stalion Strength Replacement ...   \n",
       "3            Fisher-Price Papasan Cradle Swing, Starlight   \n",
       "4       Casio MS-80B Standard Function Desktop Calculator   \n",
       "5       Shine Whitening - Zero Peroxide Teeth Whitenin...   \n",
       "\n",
       "                    REVIEW_TITLE  \\\n",
       "DOC_ID                             \n",
       "1                         useful   \n",
       "2          New era for batteries   \n",
       "3       doesn't swing very well.   \n",
       "4               Great computing!   \n",
       "5          Only use twice a week   \n",
       "\n",
       "                                              REVIEW_TEXT  \n",
       "DOC_ID                                                     \n",
       "1       When least you think so, this product will sav...  \n",
       "2       Lithium batteries are something new introduced...  \n",
       "3       I purchased this swing for my baby. She is 6 m...  \n",
       "4       I was looking for an inexpensive desk calcolat...  \n",
       "5       I only use it twice a week and the results are...  "
      ]
     },
     "execution_count": 2,
     "metadata": {},
     "output_type": "execute_result"
    }
   ],
   "source": [
    "data_df = pd.read_csv(\"/kaggle/input/amazon_reviews.txt\",index_col=0, delimiter = \"\\t\")\n",
    "print(data_df.shape)\n",
    "print(data_df.LABEL.value_counts())\n",
    "data_df.head()\n",
    "#__label1__ is REAL REVIEW\n",
    "#__label2__ is FAKE REVIEW"
   ]
  },
  {
   "cell_type": "code",
   "execution_count": 3,
   "metadata": {},
   "outputs": [],
   "source": [
    "def get_numeric_label(label):\n",
    "    return int(label[-3])\n",
    "\n",
    "PRODUCT_CATEGORY_TO_INTEGER = {'Kitchen': 0, 'Home': 1, 'Grocery': 2, 'Sports': 3, 'Jewelry': 4, 'Home Entertainment': 5, 'Video DVD': 6, 'Books': 7, 'Shoes': 8, 'PC': 9, 'Furniture': 10, 'Video Games': 11, 'Camera': 12, 'Watches': 13, 'Electronics': 14, 'Office Products': 15, 'Health & Personal Care': 16, 'Pet Products': 17, 'Baby': 18, 'Outdoors': 19, 'Toys': 20,'Musical Instruments': 21, 'Wireless': 22, 'Luggage': 23, 'Apparel': 24, 'Lawn and Garden': 25, 'Automotive': 26, 'Tools': 27, 'Beauty': 28, 'Home Improvement': 29}"
   ]
  },
  {
   "cell_type": "code",
   "execution_count": 4,
   "metadata": {},
   "outputs": [],
   "source": [
    "nlp = spacy.load('en_core_web_sm')"
   ]
  },
  {
   "cell_type": "code",
   "execution_count": 5,
   "metadata": {},
   "outputs": [],
   "source": [
    "def text_cleaning(text):\n",
    "        # PREPROCESSING THE DATASET\n",
    "    text = str(text)\n",
    "    text = text.lower()\n",
    "    text = re.sub(r\"that's\",\"that is\",text)\n",
    "    text = re.sub(r\"there's\",\"there is\",text)\n",
    "    text = re.sub(r\"what's\",\"what is\",text)\n",
    "    text = re.sub(r\"where's\",\"where is\",text)\n",
    "    text = re.sub(r\"it's\",\"it is\",text)\n",
    "    text = re.sub(r\"who's\",\"who is\",text)\n",
    "    text = re.sub(r\"i'm\",\"i am\",text)\n",
    "    text = re.sub(r\"she's\",\"she is\",text)\n",
    "    text = re.sub(r\"he's\",\"he is\",text)\n",
    "    text = re.sub(r\"they're\",\"they are\",text)\n",
    "    text = re.sub(r\"who're\",\"who are\",text)\n",
    "    text = re.sub(r\"ain't\",\"am not\",text)\n",
    "    text = re.sub(r\"wouldn't\",\"would not\",text)\n",
    "    text = re.sub(r\"shouldn't\",\"should not\",text)\n",
    "    text = re.sub(r\"can't\",\"can not\",text)\n",
    "    text = re.sub(r\"couldn't\",\"could not\",text)\n",
    "    text = re.sub(r\"won't\",\"will not\",text)\n",
    "    \n",
    "    text = re.sub(r\"\\W\",\" \",text)\n",
    "    text = re.sub(r\"\\d\",\" \",text)\n",
    "    text = re.sub(r\"\\s+[a-z]\\s+\",\" \",text)\n",
    "    text = re.sub(r\"^[a-z]\\s+\",\" \",text)    \n",
    "    text = re.sub(r\"\\s+[a-z]$\",\" \",text)    \n",
    "    text = re.sub(r\"\\s+\",\" \",text) \n",
    "    \n",
    "    doc = nlp(text)\n",
    "    \n",
    "    tokens= []\n",
    "    for token in doc:\n",
    "        if token.lemma_ != \"-PRON-\":\n",
    "            temp = token.lemma_.lower().strip()\n",
    "        else:\n",
    "            temp = token.lower_\n",
    "        tokens.append(temp)    \n",
    "    \n",
    "    filtered_tokens = []\n",
    "    for token in tokens:\n",
    "        if token not in STOP_WORDS and token not in string.punctuation:\n",
    "            filtered_tokens.append(token)\n",
    "    return filtered_tokens        "
   ]
  },
  {
   "cell_type": "code",
   "execution_count": 6,
   "metadata": {},
   "outputs": [],
   "source": [
    "data_df[\"LABEL\"] =  data_df[\"LABEL\"].apply(get_numeric_label)\n",
    "data_df[\"PRODUCT_CATEGORY\"] =  data_df[\"PRODUCT_CATEGORY\"].apply(lambda x: PRODUCT_CATEGORY_TO_INTEGER[x])\n",
    "data_df[\"VERIFIED_PURCHASE\"] = data_df[\"VERIFIED_PURCHASE\"].apply(lambda x: int(x==\"Y\"))"
   ]
  },
  {
   "cell_type": "code",
   "execution_count": 7,
   "metadata": {},
   "outputs": [
    {
     "name": "stdout",
     "output_type": "stream",
     "text": [
      "CPU times: user 6min 45s, sys: 2.33 s, total: 6min 48s\n",
      "Wall time: 6min 48s\n"
     ]
    }
   ],
   "source": [
    "%%time\n",
    "data_df[\"REVIEW_TEXT\"] = data_df['REVIEW_TITLE']+\" \"+data_df[\"REVIEW_TEXT\"] \n",
    "data_df.drop(\"REVIEW_TITLE\",inplace=True,axis=1)\n",
    "data_df[\"REVIEW_TEXT\"] = data_df['REVIEW_TEXT'].apply(lambda x:text_cleaning(x))"
   ]
  },
  {
   "cell_type": "code",
   "execution_count": 8,
   "metadata": {},
   "outputs": [],
   "source": [
    "data_df.drop(\"PRODUCT_TITLE\",axis=1,inplace=True)\n",
    "data_df.drop(\"PRODUCT_ID\",axis=1,inplace=True)"
   ]
  },
  {
   "cell_type": "code",
   "execution_count": 9,
   "metadata": {},
   "outputs": [],
   "source": [
    "data_df.to_csv(\"data_df.csv\",sep=\"\\t\",index=False)"
   ]
  },
  {
   "cell_type": "code",
   "execution_count": 10,
   "metadata": {},
   "outputs": [
    {
     "data": {
      "text/html": [
       "<div>\n",
       "<style scoped>\n",
       "    .dataframe tbody tr th:only-of-type {\n",
       "        vertical-align: middle;\n",
       "    }\n",
       "\n",
       "    .dataframe tbody tr th {\n",
       "        vertical-align: top;\n",
       "    }\n",
       "\n",
       "    .dataframe thead th {\n",
       "        text-align: right;\n",
       "    }\n",
       "</style>\n",
       "<table border=\"1\" class=\"dataframe\">\n",
       "  <thead>\n",
       "    <tr style=\"text-align: right;\">\n",
       "      <th></th>\n",
       "      <th>LABEL</th>\n",
       "      <th>RATING</th>\n",
       "      <th>VERIFIED_PURCHASE</th>\n",
       "      <th>PRODUCT_CATEGORY</th>\n",
       "      <th>REVIEW_TEXT</th>\n",
       "    </tr>\n",
       "  </thead>\n",
       "  <tbody>\n",
       "    <tr>\n",
       "      <th>0</th>\n",
       "      <td>1</td>\n",
       "      <td>4</td>\n",
       "      <td>0</td>\n",
       "      <td>9</td>\n",
       "      <td>['useful', 'think', 'product', 'save', 'day', ...</td>\n",
       "    </tr>\n",
       "    <tr>\n",
       "      <th>1</th>\n",
       "      <td>1</td>\n",
       "      <td>4</td>\n",
       "      <td>1</td>\n",
       "      <td>22</td>\n",
       "      <td>['new', 'era', 'battery', 'lithium', 'battery'...</td>\n",
       "    </tr>\n",
       "  </tbody>\n",
       "</table>\n",
       "</div>"
      ],
      "text/plain": [
       "   LABEL  RATING  VERIFIED_PURCHASE  PRODUCT_CATEGORY  \\\n",
       "0      1       4                  0                 9   \n",
       "1      1       4                  1                22   \n",
       "\n",
       "                                         REVIEW_TEXT  \n",
       "0  ['useful', 'think', 'product', 'save', 'day', ...  \n",
       "1  ['new', 'era', 'battery', 'lithium', 'battery'...  "
      ]
     },
     "execution_count": 10,
     "metadata": {},
     "output_type": "execute_result"
    }
   ],
   "source": [
    "data_df2 = pd.read_csv(\"/kaggle/working/data_df.csv\", delimiter = \"\\t\")\n",
    "data_df2.head(2)"
   ]
  }
 ],
 "metadata": {
  "kernelspec": {
   "display_name": "Python 3",
   "language": "python",
   "name": "python3"
  },
  "language_info": {
   "codemirror_mode": {
    "name": "ipython",
    "version": 3
   },
   "file_extension": ".py",
   "mimetype": "text/x-python",
   "name": "python",
   "nbconvert_exporter": "python",
   "pygments_lexer": "ipython3",
   "version": "3.7.6"
  }
 },
 "nbformat": 4,
 "nbformat_minor": 4
}
