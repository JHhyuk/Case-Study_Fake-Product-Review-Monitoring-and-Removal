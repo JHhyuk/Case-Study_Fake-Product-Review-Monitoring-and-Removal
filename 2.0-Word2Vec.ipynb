{
 "cells": [
  {
   "cell_type": "code",
   "execution_count": 1,
   "metadata": {
    "_cell_guid": "b1076dfc-b9ad-4769-8c92-a6c4dae69d19",
    "_uuid": "8f2839f25d086af736a60e9eeb907d3b93b6e0e5"
   },
   "outputs": [],
   "source": [
    "import numpy as np\n",
    "import pandas as pd\n",
    "import re\n",
    "import gensim\n",
    "\n",
    "import warnings\n",
    "warnings.filterwarnings('ignore')"
   ]
  },
  {
   "cell_type": "code",
   "execution_count": 2,
   "metadata": {},
   "outputs": [
    {
     "data": {
      "text/html": [
       "<div>\n",
       "<style scoped>\n",
       "    .dataframe tbody tr th:only-of-type {\n",
       "        vertical-align: middle;\n",
       "    }\n",
       "\n",
       "    .dataframe tbody tr th {\n",
       "        vertical-align: top;\n",
       "    }\n",
       "\n",
       "    .dataframe thead th {\n",
       "        text-align: right;\n",
       "    }\n",
       "</style>\n",
       "<table border=\"1\" class=\"dataframe\">\n",
       "  <thead>\n",
       "    <tr style=\"text-align: right;\">\n",
       "      <th></th>\n",
       "      <th>LABEL</th>\n",
       "      <th>RATING</th>\n",
       "      <th>VERIFIED_PURCHASE</th>\n",
       "      <th>PRODUCT_CATEGORY</th>\n",
       "      <th>REVIEW_TEXT</th>\n",
       "    </tr>\n",
       "  </thead>\n",
       "  <tbody>\n",
       "    <tr>\n",
       "      <th>0</th>\n",
       "      <td>1</td>\n",
       "      <td>4</td>\n",
       "      <td>0</td>\n",
       "      <td>9</td>\n",
       "      <td>['useful', 'think', 'product', 'save', 'day', ...</td>\n",
       "    </tr>\n",
       "    <tr>\n",
       "      <th>1</th>\n",
       "      <td>1</td>\n",
       "      <td>4</td>\n",
       "      <td>1</td>\n",
       "      <td>22</td>\n",
       "      <td>['new', 'era', 'battery', 'lithium', 'battery'...</td>\n",
       "    </tr>\n",
       "    <tr>\n",
       "      <th>2</th>\n",
       "      <td>1</td>\n",
       "      <td>3</td>\n",
       "      <td>0</td>\n",
       "      <td>18</td>\n",
       "      <td>['doesn', 'swing', 'purchase', 'swing', 'baby'...</td>\n",
       "    </tr>\n",
       "    <tr>\n",
       "      <th>3</th>\n",
       "      <td>1</td>\n",
       "      <td>4</td>\n",
       "      <td>0</td>\n",
       "      <td>15</td>\n",
       "      <td>['great', 'computing', 'look', 'inexpensive', ...</td>\n",
       "    </tr>\n",
       "    <tr>\n",
       "      <th>4</th>\n",
       "      <td>1</td>\n",
       "      <td>4</td>\n",
       "      <td>0</td>\n",
       "      <td>28</td>\n",
       "      <td>['use', 'twice', 'week', 'use', 'twice', 'week...</td>\n",
       "    </tr>\n",
       "  </tbody>\n",
       "</table>\n",
       "</div>"
      ],
      "text/plain": [
       "   LABEL  RATING  VERIFIED_PURCHASE  PRODUCT_CATEGORY  \\\n",
       "0      1       4                  0                 9   \n",
       "1      1       4                  1                22   \n",
       "2      1       3                  0                18   \n",
       "3      1       4                  0                15   \n",
       "4      1       4                  0                28   \n",
       "\n",
       "                                         REVIEW_TEXT  \n",
       "0  ['useful', 'think', 'product', 'save', 'day', ...  \n",
       "1  ['new', 'era', 'battery', 'lithium', 'battery'...  \n",
       "2  ['doesn', 'swing', 'purchase', 'swing', 'baby'...  \n",
       "3  ['great', 'computing', 'look', 'inexpensive', ...  \n",
       "4  ['use', 'twice', 'week', 'use', 'twice', 'week...  "
      ]
     },
     "execution_count": 2,
     "metadata": {},
     "output_type": "execute_result"
    }
   ],
   "source": [
    "data = pd.read_csv(\"/kaggle/input/1-preprocessing/data_df.csv\",sep=\"\\t\")\n",
    "data.head()"
   ]
  },
  {
   "cell_type": "code",
   "execution_count": 3,
   "metadata": {},
   "outputs": [],
   "source": [
    "data['REVIEW_TEXT'] = data['REVIEW_TEXT'].apply(lambda x:\" \".join(eval(x)))\n",
    "data.drop('PRODUCT_CATEGORY',axis=1,inplace=True)"
   ]
  },
  {
   "cell_type": "code",
   "execution_count": 4,
   "metadata": {},
   "outputs": [],
   "source": [
    "data['RATING'] = data['RATING'].apply(lambda x: int(x>3))"
   ]
  },
  {
   "cell_type": "code",
   "execution_count": 5,
   "metadata": {},
   "outputs": [],
   "source": [
    "data[\"LABEL\"] = data[\"LABEL\"].apply(lambda x: int(x==1))"
   ]
  },
  {
   "cell_type": "code",
   "execution_count": 6,
   "metadata": {
    "_cell_guid": "79c7e3d0-c299-4dcb-8224-4455121ee9b0",
    "_uuid": "d629ff2d2480ee46fbb7e2d37f6b5fab8052498a"
   },
   "outputs": [
    {
     "name": "stdout",
     "output_type": "stream",
     "text": [
      "CPU times: user 60.7 ms, sys: 27.3 ms, total: 88 ms\n",
      "Wall time: 87.7 ms\n"
     ]
    }
   ],
   "source": [
    "%%time\n",
    "documents = []\n",
    "for _text in data.REVIEW_TEXT:    \n",
    "    documents.append((_text.split(\" \")))"
   ]
  },
  {
   "cell_type": "code",
   "execution_count": 7,
   "metadata": {},
   "outputs": [],
   "source": [
    "W2V_SIZE = 48\n",
    "W2V_WINDOW = 7\n",
    "W2V_EPOCH = 64\n",
    "W2V_MIN_COUNT = 5\n",
    "w2v_model = gensim.models.word2vec.Word2Vec(size=W2V_SIZE, \n",
    "                                            window=W2V_WINDOW, \n",
    "                                            min_count=W2V_MIN_COUNT, \n",
    "                                            workers=8)\n",
    "\n",
    "\n",
    "w2v_model.build_vocab(documents)"
   ]
  },
  {
   "cell_type": "code",
   "execution_count": 8,
   "metadata": {},
   "outputs": [
    {
     "name": "stdout",
     "output_type": "stream",
     "text": [
      "CPU times: user 1min 52s, sys: 623 ms, total: 1min 53s\n",
      "Wall time: 1min 2s\n"
     ]
    },
    {
     "data": {
      "text/plain": [
       "(36888183, 43163392)"
      ]
     },
     "execution_count": 8,
     "metadata": {},
     "output_type": "execute_result"
    }
   ],
   "source": [
    "%%time\n",
    "w2v_model.train(documents, total_examples=len(documents), epochs=W2V_EPOCH)"
   ]
  },
  {
   "cell_type": "code",
   "execution_count": 9,
   "metadata": {},
   "outputs": [
    {
     "data": {
      "text/plain": [
       "[('terrible', 0.6950481534004211),\n",
       " ('horrible', 0.5735267996788025),\n",
       " ('poor', 0.569575309753418),\n",
       " ('awful', 0.5676127076148987),\n",
       " ('obviously', 0.5643770694732666),\n",
       " ('guess', 0.5598137974739075),\n",
       " ('waste', 0.517963171005249),\n",
       " ('skip', 0.5136400461196899),\n",
       " ('junk', 0.5127378106117249),\n",
       " ('worst', 0.5090329647064209)]"
      ]
     },
     "execution_count": 9,
     "metadata": {},
     "output_type": "execute_result"
    }
   ],
   "source": [
    "w2v_model.most_similar(\"bad\")"
   ]
  },
  {
   "cell_type": "code",
   "execution_count": 10,
   "metadata": {},
   "outputs": [
    {
     "data": {
      "text/plain": [
       "202.9610476190476"
      ]
     },
     "execution_count": 10,
     "metadata": {},
     "output_type": "execute_result"
    }
   ],
   "source": [
    "np.mean(data.REVIEW_TEXT.map(len))"
   ]
  },
  {
   "cell_type": "code",
   "execution_count": 11,
   "metadata": {},
   "outputs": [
    {
     "name": "stderr",
     "output_type": "stream",
     "text": [
      "Using TensorFlow backend.\n"
     ]
    }
   ],
   "source": [
    "from keras.preprocessing.text import Tokenizer\n",
    "from keras.preprocessing.sequence import pad_sequences\n",
    "from keras.models import Model,Sequential\n",
    "from keras.layers import Input,concatenate,Activation, Dense, Dropout, Embedding, Flatten, Conv1D, MaxPooling1D,Bidirectional, LSTM\n",
    "from keras import utils\n",
    "from keras.callbacks import ReduceLROnPlateau, EarlyStopping\n"
   ]
  },
  {
   "cell_type": "code",
   "execution_count": 12,
   "metadata": {},
   "outputs": [
    {
     "name": "stdout",
     "output_type": "stream",
     "text": [
      "Vocab Size is  27031\n"
     ]
    }
   ],
   "source": [
    "tokenizer = Tokenizer()\n",
    "tokenizer.fit_on_texts(data.REVIEW_TEXT)\n",
    "vocab_size = len(tokenizer.word_index)+1\n",
    "print('Vocab Size is ',vocab_size)"
   ]
  },
  {
   "cell_type": "code",
   "execution_count": 13,
   "metadata": {},
   "outputs": [],
   "source": [
    "SEQUENCE_LENGTH = 180"
   ]
  },
  {
   "cell_type": "code",
   "execution_count": 14,
   "metadata": {},
   "outputs": [
    {
     "name": "stdout",
     "output_type": "stream",
     "text": [
      "(27031, 48)\n"
     ]
    }
   ],
   "source": [
    "embedding_matrix = np.zeros((vocab_size , W2V_SIZE))\n",
    "for word , i in tokenizer.word_index.items():\n",
    "    if word in w2v_model.wv:\n",
    "        embedding_matrix[i] = w2v_model.wv[word]\n",
    "print(embedding_matrix.shape)"
   ]
  },
  {
   "cell_type": "code",
   "execution_count": 15,
   "metadata": {},
   "outputs": [
    {
     "data": {
      "text/plain": [
       "1    10500\n",
       "0    10500\n",
       "Name: LABEL, dtype: int64"
      ]
     },
     "execution_count": 15,
     "metadata": {},
     "output_type": "execute_result"
    }
   ],
   "source": [
    "data.LABEL.value_counts()"
   ]
  },
  {
   "cell_type": "code",
   "execution_count": 16,
   "metadata": {},
   "outputs": [],
   "source": [
    "ones = data[data[\"LABEL\"]==1]\n",
    "twos = data[data[\"LABEL\"]==0]"
   ]
  },
  {
   "cell_type": "code",
   "execution_count": 17,
   "metadata": {},
   "outputs": [
    {
     "name": "stdout",
     "output_type": "stream",
     "text": [
      "(15000, 4)\n",
      "(1000, 4)\n"
     ]
    }
   ],
   "source": [
    "train_data = ones[:7500]\n",
    "train_data = train_data.append(twos[:7500])\n",
    "val_data = ones[7500:8000]\n",
    "val_data = val_data.append(twos[7500:8000])\n",
    "print(train_data.shape)\n",
    "print(val_data.shape)"
   ]
  },
  {
   "cell_type": "code",
   "execution_count": 18,
   "metadata": {},
   "outputs": [
    {
     "data": {
      "text/plain": [
       "(5000, 4)"
      ]
     },
     "execution_count": 18,
     "metadata": {},
     "output_type": "execute_result"
    }
   ],
   "source": [
    "test_data = ones[8000:]\n",
    "test_data = test_data.append(twos[8000:])\n",
    "test_data.shape"
   ]
  },
  {
   "cell_type": "code",
   "execution_count": 19,
   "metadata": {},
   "outputs": [],
   "source": [
    "data_nlp = train_data[\"REVIEW_TEXT\"]\n",
    "data_meta_input = train_data.drop([\"REVIEW_TEXT\",\"LABEL\"],axis=1)\n",
    "data_op = train_data[\"LABEL\"]\n",
    "\n",
    "val_nlp = val_data[\"REVIEW_TEXT\"]\n",
    "val_meta_input = val_data.drop([\"REVIEW_TEXT\",\"LABEL\"],axis=1)\n",
    "val_op = val_data[\"LABEL\"]"
   ]
  },
  {
   "cell_type": "code",
   "execution_count": 20,
   "metadata": {},
   "outputs": [],
   "source": [
    "test_data_nlp = test_data[\"REVIEW_TEXT\"]\n",
    "test_data_meta_input = test_data.drop([\"REVIEW_TEXT\",\"LABEL\"],axis=1)\n",
    "test_data_op = test_data[\"LABEL\"]"
   ]
  },
  {
   "cell_type": "code",
   "execution_count": 21,
   "metadata": {},
   "outputs": [
    {
     "name": "stdout",
     "output_type": "stream",
     "text": [
      "CPU times: user 676 ms, sys: 8 ms, total: 684 ms\n",
      "Wall time: 684 ms\n"
     ]
    }
   ],
   "source": [
    "%%time \n",
    "x_data = pad_sequences(tokenizer.texts_to_sequences(data_nlp) , maxlen = SEQUENCE_LENGTH)\n",
    "y_data = data_op\n",
    "y_data = y_data.values.reshape(-1,1)"
   ]
  },
  {
   "cell_type": "code",
   "execution_count": 22,
   "metadata": {},
   "outputs": [
    {
     "name": "stdout",
     "output_type": "stream",
     "text": [
      "CPU times: user 42.8 ms, sys: 10 µs, total: 42.8 ms\n",
      "Wall time: 42.3 ms\n"
     ]
    }
   ],
   "source": [
    "%%time \n",
    "vx_data = pad_sequences(tokenizer.texts_to_sequences(val_nlp) , maxlen = SEQUENCE_LENGTH)\n",
    "vy_data = val_op\n",
    "vy_data = vy_data.values.reshape(-1,1)"
   ]
  },
  {
   "cell_type": "code",
   "execution_count": 23,
   "metadata": {},
   "outputs": [
    {
     "name": "stdout",
     "output_type": "stream",
     "text": [
      "CPU times: user 207 ms, sys: 4 ms, total: 211 ms\n",
      "Wall time: 209 ms\n"
     ]
    }
   ],
   "source": [
    "%%time \n",
    "testx = pad_sequences(tokenizer.texts_to_sequences(test_data_nlp) , maxlen = SEQUENCE_LENGTH)\n",
    "testy = test_data_op\n",
    "testy = testy.values.reshape(-1,1)"
   ]
  },
  {
   "cell_type": "code",
   "execution_count": 24,
   "metadata": {},
   "outputs": [],
   "source": [
    "nlp_input = Input(shape=(SEQUENCE_LENGTH,)) \n",
    "                   \n",
    "emb=Embedding(vocab_size,W2V_SIZE,weights=[embedding_matrix],input_length=SEQUENCE_LENGTH)(nlp_input)\n",
    "nlp_out = LSTM(64)(emb)                         \n",
    "classifier1 = Dense(128, activation='relu')(nlp_out) \n",
    "dropout = Dropout(0.2)(classifier1) \n",
    "classifier2 = Dense(32, activation='relu')(dropout) \n",
    "output = Dense(1, activation='sigmoid')(classifier2) \n",
    "\n",
    "model = Model(inputs=[nlp_input], outputs=[output])"
   ]
  },
  {
   "cell_type": "code",
   "execution_count": 25,
   "metadata": {},
   "outputs": [],
   "source": [
    "model.compile(loss='binary_crossentropy', optimizer='adam', metrics=['accuracy'])"
   ]
  },
  {
   "cell_type": "code",
   "execution_count": 26,
   "metadata": {},
   "outputs": [
    {
     "name": "stdout",
     "output_type": "stream",
     "text": [
      "Model: \"model_1\"\n",
      "_________________________________________________________________\n",
      "Layer (type)                 Output Shape              Param #   \n",
      "=================================================================\n",
      "input_1 (InputLayer)         (None, 180)               0         \n",
      "_________________________________________________________________\n",
      "embedding_1 (Embedding)      (None, 180, 48)           1297488   \n",
      "_________________________________________________________________\n",
      "lstm_1 (LSTM)                (None, 64)                28928     \n",
      "_________________________________________________________________\n",
      "dense_1 (Dense)              (None, 128)               8320      \n",
      "_________________________________________________________________\n",
      "dropout_1 (Dropout)          (None, 128)               0         \n",
      "_________________________________________________________________\n",
      "dense_2 (Dense)              (None, 32)                4128      \n",
      "_________________________________________________________________\n",
      "dense_3 (Dense)              (None, 1)                 33        \n",
      "=================================================================\n",
      "Total params: 1,338,897\n",
      "Trainable params: 1,338,897\n",
      "Non-trainable params: 0\n",
      "_________________________________________________________________\n"
     ]
    }
   ],
   "source": [
    "model.summary()"
   ]
  },
  {
   "cell_type": "code",
   "execution_count": 27,
   "metadata": {},
   "outputs": [
    {
     "name": "stdout",
     "output_type": "stream",
     "text": [
      "Train on 15000 samples, validate on 1000 samples\n",
      "Epoch 1/3\n",
      "15000/15000 [==============================] - 82s 5ms/step - loss: 0.6712 - accuracy: 0.5786 - val_loss: 0.6725 - val_accuracy: 0.5940\n",
      "Epoch 2/3\n",
      "15000/15000 [==============================] - 80s 5ms/step - loss: 0.6199 - accuracy: 0.6559 - val_loss: 0.7018 - val_accuracy: 0.5720\n",
      "Epoch 3/3\n",
      "15000/15000 [==============================] - 79s 5ms/step - loss: 0.5648 - accuracy: 0.7063 - val_loss: 0.7518 - val_accuracy: 0.5740\n"
     ]
    }
   ],
   "source": [
    "history = model.fit(x_data,y_data,batch_size=32,epochs=3,\n",
    "                    validation_data=(vx_data,vy_data))"
   ]
  },
  {
   "cell_type": "code",
   "execution_count": 28,
   "metadata": {},
   "outputs": [
    {
     "name": "stdout",
     "output_type": "stream",
     "text": [
      "Train on 15000 samples, validate on 1000 samples\n",
      "Epoch 4/5\n",
      "15000/15000 [==============================] - 79s 5ms/step - loss: 0.5010 - accuracy: 0.7547 - val_loss: 0.8087 - val_accuracy: 0.5810\n",
      "Epoch 5/5\n",
      "15000/15000 [==============================] - 79s 5ms/step - loss: 0.4198 - accuracy: 0.8066 - val_loss: 0.8032 - val_accuracy: 0.5760\n"
     ]
    }
   ],
   "source": [
    "history2 = model.fit(x_data,y_data,batch_size=32,epochs=5,initial_epoch=3,\n",
    "                    validation_data=(vx_data,vy_data))"
   ]
  },
  {
   "cell_type": "code",
   "execution_count": 29,
   "metadata": {},
   "outputs": [],
   "source": [
    "model.save(\"Word2Vec.hdf5\")"
   ]
  },
  {
   "cell_type": "code",
   "execution_count": 30,
   "metadata": {},
   "outputs": [],
   "source": [
    "from sklearn.metrics import confusion_matrix"
   ]
  },
  {
   "cell_type": "code",
   "execution_count": 31,
   "metadata": {},
   "outputs": [],
   "source": [
    "pred = model.predict(testx)\n",
    "# np.unique(pred,return_counts=True)"
   ]
  },
  {
   "cell_type": "code",
   "execution_count": 32,
   "metadata": {},
   "outputs": [],
   "source": [
    "pred = (pred>0.5)"
   ]
  },
  {
   "cell_type": "code",
   "execution_count": 33,
   "metadata": {},
   "outputs": [
    {
     "data": {
      "text/plain": [
       "(array([0, 1]), array([2314, 2686]))"
      ]
     },
     "execution_count": 33,
     "metadata": {},
     "output_type": "execute_result"
    }
   ],
   "source": [
    "pred = pred.reshape(5000).astype(int)\n",
    "np.unique(pred , return_counts=True)"
   ]
  },
  {
   "cell_type": "code",
   "execution_count": 34,
   "metadata": {},
   "outputs": [
    {
     "data": {
      "text/plain": [
       "array([[1344,  970],\n",
       "       [1156, 1530]])"
      ]
     },
     "execution_count": 34,
     "metadata": {},
     "output_type": "execute_result"
    }
   ],
   "source": [
    "confusion_matrix(pred,testy)"
   ]
  },
  {
   "cell_type": "code",
   "execution_count": 35,
   "metadata": {},
   "outputs": [],
   "source": [
    "import matplotlib.pyplot as plt"
   ]
  },
  {
   "cell_type": "code",
   "execution_count": 36,
   "metadata": {},
   "outputs": [
    {
     "name": "stdout",
     "output_type": "stream",
     "text": [
      "AUC score is:  0.5748000000000001\n"
     ]
    },
    {
     "data": {
      "image/png": "[encoded data removed]",
      "text/plain": [
       "<Figure size 432x288 with 1 Axes>"
      ]
     },
     "metadata": {
      "needs_background": "light"
     },
     "output_type": "display_data"
    }
   ],
   "source": [
    "from sklearn.metrics import roc_curve\n",
    "fpr, tpr, thresholds = roc_curve(testy, pred)\n",
    "\n",
    "# find threshold closest to zero:\n",
    "close_zero = np.argmin(np.abs(thresholds))\n",
    "\n",
    "plt.plot(fpr[close_zero], tpr[close_zero], 'o', \n",
    "         markersize=10, label=\"threshold zero(default)\", fillstyle=\"none\", c='k', mew=2)\n",
    "plt.plot([0,1], linestyle='-', lw=2, color='r', label='random', alpha=0.8)\n",
    "plt.legend(loc=4)\n",
    "plt.plot(fpr, tpr, label=\"ROC Curve\")\n",
    "plt.xlabel(\"False Positive Rate\")\n",
    "plt.ylabel(\"True Positive Rate (recall)\")\n",
    "plt.title(\"roc_curve\");\n",
    "\n",
    "from sklearn.metrics import auc\n",
    "print(\"AUC score is: \", auc(fpr, tpr));"
   ]
  },
  {
   "cell_type": "markdown",
   "execution_count": null,
   "metadata": {},
   "source": [
    "**CONCATENATED MODEL**"
   ]
  },
  {
   "cell_type": "code",
   "execution_count": 37,
   "metadata": {},
   "outputs": [],
   "source": [
    "nlp_input = Input(shape=(SEQUENCE_LENGTH,)) \n",
    "meta_input = Input(shape=(2,))\n",
    "                   \n",
    "emb=Embedding(vocab_size,W2V_SIZE,weights=[embedding_matrix],input_length=SEQUENCE_LENGTH,trainable = False)(nlp_input)\n",
    "nlp_out = LSTM(128)(emb) \n",
    "\n",
    "concat = concatenate([nlp_out, meta_input]) \n",
    "                        \n",
    "classifier = Dense(128, activation='relu')(concat) \n",
    "\n",
    "output = Dense(1, activation='sigmoid')(classifier) \n",
    "\n",
    "model2 = Model(inputs=[nlp_input , meta_input], outputs=[output])"
   ]
  },
  {
   "cell_type": "code",
   "execution_count": 38,
   "metadata": {},
   "outputs": [],
   "source": [
    "model2.compile(loss='binary_crossentropy', optimizer='adam', metrics=['accuracy'])"
   ]
  },
  {
   "cell_type": "code",
   "execution_count": 39,
   "metadata": {},
   "outputs": [
    {
     "name": "stdout",
     "output_type": "stream",
     "text": [
      "Model: \"model_2\"\n",
      "__________________________________________________________________________________________________\n",
      "Layer (type)                    Output Shape         Param #     Connected to                     \n",
      "==================================================================================================\n",
      "input_2 (InputLayer)            (None, 180)          0                                            \n",
      "__________________________________________________________________________________________________\n",
      "embedding_2 (Embedding)         (None, 180, 48)      1297488     input_2[0][0]                    \n",
      "__________________________________________________________________________________________________\n",
      "lstm_2 (LSTM)                   (None, 128)          90624       embedding_2[0][0]                \n",
      "__________________________________________________________________________________________________\n",
      "input_3 (InputLayer)            (None, 2)            0                                            \n",
      "__________________________________________________________________________________________________\n",
      "concatenate_1 (Concatenate)     (None, 130)          0           lstm_2[0][0]                     \n",
      "                                                                 input_3[0][0]                    \n",
      "__________________________________________________________________________________________________\n",
      "dense_4 (Dense)                 (None, 128)          16768       concatenate_1[0][0]              \n",
      "__________________________________________________________________________________________________\n",
      "dense_5 (Dense)                 (None, 1)            129         dense_4[0][0]                    \n",
      "==================================================================================================\n",
      "Total params: 1,405,009\n",
      "Trainable params: 107,521\n",
      "Non-trainable params: 1,297,488\n",
      "__________________________________________________________________________________________________\n"
     ]
    }
   ],
   "source": [
    "model2.summary()"
   ]
  },
  {
   "cell_type": "code",
   "execution_count": 40,
   "metadata": {},
   "outputs": [
    {
     "name": "stdout",
     "output_type": "stream",
     "text": [
      "Train on 15000 samples, validate on 1000 samples\n",
      "Epoch 1/3\n",
      "15000/15000 [==============================] - 76s 5ms/step - loss: 0.5229 - accuracy: 0.7641 - val_loss: 0.5392 - val_accuracy: 0.7590\n",
      "Epoch 2/3\n",
      "15000/15000 [==============================] - 77s 5ms/step - loss: 0.4404 - accuracy: 0.8115 - val_loss: 0.5191 - val_accuracy: 0.7590\n",
      "Epoch 3/3\n",
      "15000/15000 [==============================] - 77s 5ms/step - loss: 0.3899 - accuracy: 0.8360 - val_loss: 0.5453 - val_accuracy: 0.7620\n"
     ]
    }
   ],
   "source": [
    "historyx = model2.fit([x_data,data_meta_input],y_data,batch_size=32,epochs=3,\n",
    "                    validation_data=([vx_data,val_meta_input],vy_data))"
   ]
  },
  {
   "cell_type": "code",
   "execution_count": 41,
   "metadata": {},
   "outputs": [
    {
     "name": "stdout",
     "output_type": "stream",
     "text": [
      "Train on 15000 samples, validate on 1000 samples\n",
      "Epoch 4/5\n",
      "15000/15000 [==============================] - 76s 5ms/step - loss: 0.3377 - accuracy: 0.8579 - val_loss: 0.5798 - val_accuracy: 0.7510\n",
      "Epoch 5/5\n",
      "15000/15000 [==============================] - 76s 5ms/step - loss: 0.2741 - accuracy: 0.8876 - val_loss: 0.6413 - val_accuracy: 0.7510\n"
     ]
    }
   ],
   "source": [
    "historyx = model2.fit([x_data,data_meta_input],y_data,batch_size=32,epochs=5,initial_epoch=3,\n",
    "                    validation_data=([vx_data,val_meta_input],vy_data))"
   ]
  },
  {
   "cell_type": "code",
   "execution_count": 42,
   "metadata": {},
   "outputs": [],
   "source": [
    "model2.save(\"Word2Vec_V2.hdf5\")"
   ]
  },
  {
   "cell_type": "code",
   "execution_count": 43,
   "metadata": {},
   "outputs": [],
   "source": [
    "pred = model2.predict([testx,test_data_meta_input])\n",
    "pred = (pred>0.5)"
   ]
  },
  {
   "cell_type": "code",
   "execution_count": 44,
   "metadata": {},
   "outputs": [
    {
     "data": {
      "text/plain": [
       "(array([0, 1]), array([2713, 2287]))"
      ]
     },
     "execution_count": 44,
     "metadata": {},
     "output_type": "execute_result"
    }
   ],
   "source": [
    "pred = pred.reshape(5000).astype(int)\n",
    "np.unique(pred , return_counts=True)"
   ]
  },
  {
   "cell_type": "code",
   "execution_count": 45,
   "metadata": {},
   "outputs": [
    {
     "data": {
      "text/plain": [
       "array([[2002,  711],\n",
       "       [ 498, 1789]])"
      ]
     },
     "execution_count": 45,
     "metadata": {},
     "output_type": "execute_result"
    }
   ],
   "source": [
    "confusion_matrix(pred,testy)"
   ]
  },
  {
   "cell_type": "code",
   "execution_count": 46,
   "metadata": {},
   "outputs": [
    {
     "name": "stdout",
     "output_type": "stream",
     "text": [
      "AUC score is:  0.7582\n"
     ]
    },
    {
     "data": {
      "image/png": "[encoded data removed]",
      "text/plain": [
       "<Figure size 432x288 with 1 Axes>"
      ]
     },
     "metadata": {
      "needs_background": "light"
     },
     "output_type": "display_data"
    }
   ],
   "source": [
    "from sklearn.metrics import roc_curve\n",
    "fpr, tpr, thresholds = roc_curve(testy, pred)\n",
    "\n",
    "# find threshold closest to zero:\n",
    "close_zero = np.argmin(np.abs(thresholds))\n",
    "\n",
    "plt.plot(fpr[close_zero], tpr[close_zero], 'o', \n",
    "         markersize=10, label=\"threshold zero(default)\", fillstyle=\"none\", c='k', mew=2)\n",
    "plt.plot([0,1], linestyle='-', lw=2, color='r', label='random', alpha=0.8)\n",
    "plt.legend(loc=4)\n",
    "plt.plot(fpr, tpr, label=\"ROC Curve\")\n",
    "plt.xlabel(\"False Positive Rate\")\n",
    "plt.ylabel(\"True Positive Rate (recall)\")\n",
    "plt.title(\"roc_curve\");\n",
    "\n",
    "from sklearn.metrics import auc\n",
    "print(\"AUC score is: \", auc(fpr, tpr));"
   ]
  }
 ],
 "metadata": {
  "kernelspec": {
   "display_name": "Python 3",
   "language": "python",
   "name": "python3"
  },
  "language_info": {
   "codemirror_mode": {
    "name": "ipython",
    "version": 3
   },
   "file_extension": ".py",
   "mimetype": "text/x-python",
   "name": "python",
   "nbconvert_exporter": "python",
   "pygments_lexer": "ipython3",
   "version": "3.7.6"
  }
 },
 "nbformat": 4,
 "nbformat_minor": 4
}
